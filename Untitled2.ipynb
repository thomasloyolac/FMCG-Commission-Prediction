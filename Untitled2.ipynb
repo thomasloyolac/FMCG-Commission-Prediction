{
 "cells": [
  {
   "cell_type": "code",
   "execution_count": 1,
   "id": "ed46cce8",
   "metadata": {},
   "outputs": [],
   "source": [
    "import pandas as pd\n",
    "import numpy as np\n",
    "import seaborn as sb\n",
    "import matplotlib.pyplot as plt"
   ]
  },
  {
   "cell_type": "code",
   "execution_count": 2,
   "id": "c91cfab8",
   "metadata": {},
   "outputs": [
    {
     "data": {
      "text/html": [
       "<div>\n",
       "<style scoped>\n",
       "    .dataframe tbody tr th:only-of-type {\n",
       "        vertical-align: middle;\n",
       "    }\n",
       "\n",
       "    .dataframe tbody tr th {\n",
       "        vertical-align: top;\n",
       "    }\n",
       "\n",
       "    .dataframe thead th {\n",
       "        text-align: right;\n",
       "    }\n",
       "</style>\n",
       "<table border=\"1\" class=\"dataframe\">\n",
       "  <thead>\n",
       "    <tr style=\"text-align: right;\">\n",
       "      <th></th>\n",
       "      <th>YEAR</th>\n",
       "      <th>MONTH</th>\n",
       "      <th>Company</th>\n",
       "      <th>Area 1</th>\n",
       "      <th>Area 2</th>\n",
       "      <th>Area 3</th>\n",
       "      <th>Area 3 Classification</th>\n",
       "      <th>Outlet Type</th>\n",
       "      <th>Outlet Name</th>\n",
       "      <th>Product Category 1</th>\n",
       "      <th>Product Category 2</th>\n",
       "      <th>Product</th>\n",
       "      <th>Units sold</th>\n",
       "      <th>Revenue</th>\n",
       "      <th>Commission</th>\n",
       "    </tr>\n",
       "  </thead>\n",
       "  <tbody>\n",
       "    <tr>\n",
       "      <th>0</th>\n",
       "      <td>2018</td>\n",
       "      <td>JAN</td>\n",
       "      <td>white walkers</td>\n",
       "      <td>the westerlands</td>\n",
       "      <td>golden tooth</td>\n",
       "      <td>rivermen</td>\n",
       "      <td>lord of the crossing</td>\n",
       "      <td>house frey</td>\n",
       "      <td>viserys ii targaryen</td>\n",
       "      <td>korean</td>\n",
       "      <td>bagels</td>\n",
       "      <td>white cabbage</td>\n",
       "      <td>2.495851</td>\n",
       "      <td>49717.353917</td>\n",
       "      <td>0.000000</td>\n",
       "    </tr>\n",
       "    <tr>\n",
       "      <th>1</th>\n",
       "      <td>2018</td>\n",
       "      <td>FEB</td>\n",
       "      <td>white walkers</td>\n",
       "      <td>the riverlands</td>\n",
       "      <td>mummer's ford</td>\n",
       "      <td>dornish</td>\n",
       "      <td>ser</td>\n",
       "      <td>house swyft</td>\n",
       "      <td>walder frey</td>\n",
       "      <td>greek</td>\n",
       "      <td>chicken bouillon granules</td>\n",
       "      <td>rye</td>\n",
       "      <td>45.198292</td>\n",
       "      <td>249494.572083</td>\n",
       "      <td>0.000000</td>\n",
       "    </tr>\n",
       "    <tr>\n",
       "      <th>2</th>\n",
       "      <td>2018</td>\n",
       "      <td>JUN</td>\n",
       "      <td>men</td>\n",
       "      <td>the north</td>\n",
       "      <td>riverrun</td>\n",
       "      <td>valyrian</td>\n",
       "      <td>ser</td>\n",
       "      <td>house arryn</td>\n",
       "      <td>addison hill</td>\n",
       "      <td>korean</td>\n",
       "      <td>dry yeast</td>\n",
       "      <td>wheels</td>\n",
       "      <td>2.475006</td>\n",
       "      <td>54351.125584</td>\n",
       "      <td>4393.135151</td>\n",
       "    </tr>\n",
       "    <tr>\n",
       "      <th>3</th>\n",
       "      <td>2018</td>\n",
       "      <td>FEB</td>\n",
       "      <td>white walkers</td>\n",
       "      <td>the stormlands</td>\n",
       "      <td>green fork</td>\n",
       "      <td>ironborn</td>\n",
       "      <td>lord of the crossing</td>\n",
       "      <td>house santagar</td>\n",
       "      <td>aemma arryn</td>\n",
       "      <td>mexican</td>\n",
       "      <td>chicken bouillon granules</td>\n",
       "      <td>cola soft drink</td>\n",
       "      <td>4.980233</td>\n",
       "      <td>33467.167489</td>\n",
       "      <td>0.000000</td>\n",
       "    </tr>\n",
       "    <tr>\n",
       "      <th>4</th>\n",
       "      <td>2018</td>\n",
       "      <td>JAN</td>\n",
       "      <td>white walkers</td>\n",
       "      <td>the crownlands</td>\n",
       "      <td>whispering wood</td>\n",
       "      <td>free folk</td>\n",
       "      <td>ser</td>\n",
       "      <td>house targaryen</td>\n",
       "      <td>sylva santagar</td>\n",
       "      <td>indian</td>\n",
       "      <td>field peas</td>\n",
       "      <td>mexican oregano</td>\n",
       "      <td>2.482338</td>\n",
       "      <td>27256.068984</td>\n",
       "      <td>0.000000</td>\n",
       "    </tr>\n",
       "  </tbody>\n",
       "</table>\n",
       "</div>"
      ],
      "text/plain": [
       "   YEAR MONTH        Company           Area 1           Area 2     Area 3  \\\n",
       "0  2018   JAN  white walkers  the westerlands     golden tooth   rivermen   \n",
       "1  2018   FEB  white walkers   the riverlands    mummer's ford    dornish   \n",
       "2  2018   JUN            men        the north         riverrun   valyrian   \n",
       "3  2018   FEB  white walkers   the stormlands       green fork   ironborn   \n",
       "4  2018   JAN  white walkers   the crownlands  whispering wood  free folk   \n",
       "\n",
       "  Area 3 Classification      Outlet Type           Outlet Name  \\\n",
       "0  lord of the crossing       house frey  viserys ii targaryen   \n",
       "1                   ser      house swyft           walder frey   \n",
       "2                   ser      house arryn          addison hill   \n",
       "3  lord of the crossing   house santagar           aemma arryn   \n",
       "4                   ser  house targaryen        sylva santagar   \n",
       "\n",
       "  Product Category 1         Product Category 2          Product  Units sold  \\\n",
       "0             korean                     bagels    white cabbage    2.495851   \n",
       "1              greek  chicken bouillon granules              rye   45.198292   \n",
       "2             korean                  dry yeast           wheels    2.475006   \n",
       "3            mexican  chicken bouillon granules  cola soft drink    4.980233   \n",
       "4             indian                 field peas  mexican oregano    2.482338   \n",
       "\n",
       "         Revenue   Commission  \n",
       "0   49717.353917     0.000000  \n",
       "1  249494.572083     0.000000  \n",
       "2   54351.125584  4393.135151  \n",
       "3   33467.167489     0.000000  \n",
       "4   27256.068984     0.000000  "
      ]
     },
     "execution_count": 2,
     "metadata": {},
     "output_type": "execute_result"
    }
   ],
   "source": [
    "df=pd.read_csv('Interview_Pi_masked_data.csv')\n",
    "df.head()"
   ]
  },
  {
   "cell_type": "code",
   "execution_count": 3,
   "id": "735bf53e",
   "metadata": {},
   "outputs": [
    {
     "data": {
      "text/plain": [
       "<AxesSubplot:>"
      ]
     },
     "execution_count": 3,
     "metadata": {},
     "output_type": "execute_result"
    },
    {
     "data": {
      "image/png": "[encoded data removed]",
      "text/plain": [
       "<Figure size 432x288 with 2 Axes>"
      ]
     },
     "metadata": {
      "needs_background": "light"
     },
     "output_type": "display_data"
    }
   ],
   "source": [
    "sb.heatmap(df.corr(),annot=True)"
   ]
  },
  {
   "cell_type": "code",
   "execution_count": 4,
   "id": "aa880c83",
   "metadata": {},
   "outputs": [
    {
     "data": {
      "text/plain": [
       "YEAR                           1\n",
       "MONTH                         12\n",
       "Company                        2\n",
       "Area 1                         6\n",
       "Area 2                        15\n",
       "Area 3                        64\n",
       "Area 3 Classification          8\n",
       "Outlet Type                   20\n",
       "Outlet Name                  513\n",
       "Product Category 1             6\n",
       "Product Category 2           109\n",
       "Product                      320\n",
       "Units sold               1081484\n",
       "Revenue                   969534\n",
       "Commission                456879\n",
       "dtype: int64"
      ]
     },
     "execution_count": 4,
     "metadata": {},
     "output_type": "execute_result"
    }
   ],
   "source": [
    "df.nunique()"
   ]
  },
  {
   "cell_type": "code",
   "execution_count": 3,
   "id": "d1a10dc2",
   "metadata": {},
   "outputs": [],
   "source": [
    "from sklearn.preprocessing import OrdinalEncoder"
   ]
  },
  {
   "cell_type": "code",
   "execution_count": 4,
   "id": "f91f9d4b",
   "metadata": {},
   "outputs": [],
   "source": [
    "oe=OrdinalEncoder(categories=[['JAN', 'FEB', 'JUN', 'MAR', 'APR', 'MAY', 'OCT', 'JUL', 'AUG',\n",
    "       'SEP', 'NOV', 'DEC']])\n",
    "df['MONTH']=oe.fit_transform(df[['MONTH']])"
   ]
  },
  {
   "cell_type": "code",
   "execution_count": 5,
   "id": "aa69faee",
   "metadata": {},
   "outputs": [
    {
     "data": {
      "text/plain": [
       "array([ 0.,  1.,  2.,  3.,  4.,  5.,  6.,  7.,  8.,  9., 10., 11.])"
      ]
     },
     "execution_count": 5,
     "metadata": {},
     "output_type": "execute_result"
    }
   ],
   "source": [
    "df['MONTH'].unique()"
   ]
  },
  {
   "cell_type": "code",
   "execution_count": 6,
   "id": "7c5e402f",
   "metadata": {},
   "outputs": [],
   "source": [
    "from sklearn.preprocessing import LabelEncoder\n"
   ]
  },
  {
   "cell_type": "code",
   "execution_count": 7,
   "id": "36cf150b",
   "metadata": {},
   "outputs": [],
   "source": [
    "le=LabelEncoder()\n",
    "df['Company']=le.fit_transform(df['Company'])"
   ]
  },
  {
   "cell_type": "code",
   "execution_count": 8,
   "id": "551f6010",
   "metadata": {},
   "outputs": [
    {
     "data": {
      "text/plain": [
       "array([1, 0])"
      ]
     },
     "execution_count": 8,
     "metadata": {},
     "output_type": "execute_result"
    }
   ],
   "source": [
    "df['Company'].unique()"
   ]
  },
  {
   "cell_type": "code",
   "execution_count": 9,
   "id": "e7a69aae",
   "metadata": {},
   "outputs": [],
   "source": [
    "df['Area 2']=df['Area 2'].map(df['Area 2'].value_counts())"
   ]
  },
  {
   "cell_type": "code",
   "execution_count": 10,
   "id": "abb6f8fc",
   "metadata": {},
   "outputs": [
    {
     "data": {
      "text/plain": [
       "array([ 61596,  57281,  40181,  72926,  52263, 105632,  57088, 172744,\n",
       "        78095,  52256,  91880,  62611,  34246,  82027,  60658],\n",
       "      dtype=int64)"
      ]
     },
     "execution_count": 10,
     "metadata": {},
     "output_type": "execute_result"
    }
   ],
   "source": [
    "df['Area 2'].unique()"
   ]
  },
  {
   "cell_type": "code",
   "execution_count": 11,
   "id": "a6b061ef",
   "metadata": {},
   "outputs": [],
   "source": [
    "df['Area 3']=df['Area 3'].map(df['Area 3'].value_counts())"
   ]
  },
  {
   "cell_type": "code",
   "execution_count": 12,
   "id": "669c47a4",
   "metadata": {},
   "outputs": [
    {
     "data": {
      "text/plain": [
       "array([61052,  3931, 13536, 65714, 45648, 68957, 19290, 11963, 32770,\n",
       "       32793,  5233, 11674, 26369, 15430, 27485, 30911,  4806, 45865,\n",
       "       44907,  9743, 16881, 11321, 10528,  7212, 17557, 82027,   680,\n",
       "        8807, 15699, 26345,  4808, 60658,  9351,  9349,  1807,  9608,\n",
       "        8664, 24888, 34764,  9316,  4885,  5305,  9377,   677,  3307,\n",
       "       13450, 22878,  5047,  6438, 13760,  6235,  4368,  7225,  7602,\n",
       "        6597,  2305,  6413,  2693,  1911,  1753,   147,    43,   544,\n",
       "         177], dtype=int64)"
      ]
     },
     "execution_count": 12,
     "metadata": {},
     "output_type": "execute_result"
    }
   ],
   "source": [
    "df['Area 3'].unique()"
   ]
  },
  {
   "cell_type": "code",
   "execution_count": 13,
   "id": "feca217d",
   "metadata": {},
   "outputs": [],
   "source": [
    "df['Outlet Type']=df['Outlet Type'].map(df['Outlet Type'].value_counts())"
   ]
  },
  {
   "cell_type": "code",
   "execution_count": 14,
   "id": "0b2f077d",
   "metadata": {},
   "outputs": [],
   "source": [
    "df['Outlet Name']=df['Outlet Name'].map(df['Outlet Name'].value_counts())"
   ]
  },
  {
   "cell_type": "code",
   "execution_count": 15,
   "id": "6ab25095",
   "metadata": {},
   "outputs": [],
   "source": [
    "df['Product Category 2']=df['Product Category 2'].map(df['Product Category 2'].value_counts())"
   ]
  },
  {
   "cell_type": "code",
   "execution_count": 16,
   "id": "dd42dafa",
   "metadata": {},
   "outputs": [],
   "source": [
    "tab=df['Product'].value_counts()\n",
    "df['Product']=df['Product'].map(tab)"
   ]
  },
  {
   "cell_type": "code",
   "execution_count": 17,
   "id": "fb3e68a9",
   "metadata": {},
   "outputs": [],
   "source": [
    "dummy_var=pd.get_dummies(df[['Area 1','Area 3 Classification','Product Category 1']])"
   ]
  },
  {
   "cell_type": "code",
   "execution_count": 18,
   "id": "6cc0de80",
   "metadata": {},
   "outputs": [
    {
     "data": {
      "text/plain": [
       "Index(['YEAR', 'MONTH', 'Company', 'Area 1', 'Area 2', 'Area 3',\n",
       "       'Area 3 Classification', 'Outlet Type', 'Outlet Name',\n",
       "       'Product Category 1', 'Product Category 2', 'Product', 'Units sold',\n",
       "       'Revenue', 'Commission'],\n",
       "      dtype='object')"
      ]
     },
     "execution_count": 18,
     "metadata": {},
     "output_type": "execute_result"
    }
   ],
   "source": [
    "df.columns"
   ]
  },
  {
   "cell_type": "code",
   "execution_count": 19,
   "id": "450a32cd",
   "metadata": {},
   "outputs": [],
   "source": [
    "df=df.drop(['YEAR','Area 1','Area 3 Classification','Product Category 1','Units sold'],1)"
   ]
  },
  {
   "cell_type": "code",
   "execution_count": 20,
   "id": "be96f802",
   "metadata": {},
   "outputs": [
    {
     "data": {
      "text/html": [
       "<div>\n",
       "<style scoped>\n",
       "    .dataframe tbody tr th:only-of-type {\n",
       "        vertical-align: middle;\n",
       "    }\n",
       "\n",
       "    .dataframe tbody tr th {\n",
       "        vertical-align: top;\n",
       "    }\n",
       "\n",
       "    .dataframe thead th {\n",
       "        text-align: right;\n",
       "    }\n",
       "</style>\n",
       "<table border=\"1\" class=\"dataframe\">\n",
       "  <thead>\n",
       "    <tr style=\"text-align: right;\">\n",
       "      <th></th>\n",
       "      <th>Area 1_beyond the wall</th>\n",
       "      <th>Area 1_the crownlands</th>\n",
       "      <th>Area 1_the north</th>\n",
       "      <th>Area 1_the riverlands</th>\n",
       "      <th>Area 1_the stormlands</th>\n",
       "      <th>Area 1_the westerlands</th>\n",
       "      <th>Area 3 Classification_archmaester</th>\n",
       "      <th>Area 3 Classification_greenstone</th>\n",
       "      <th>Area 3 Classification_hand of the king</th>\n",
       "      <th>Area 3 Classification_khal</th>\n",
       "      <th>Area 3 Classification_lord of the crossing</th>\n",
       "      <th>Area 3 Classification_maester</th>\n",
       "      <th>Area 3 Classification_queen</th>\n",
       "      <th>Area 3 Classification_ser</th>\n",
       "      <th>Product Category 1_chinese</th>\n",
       "      <th>Product Category 1_greek</th>\n",
       "      <th>Product Category 1_indian</th>\n",
       "      <th>Product Category 1_korean</th>\n",
       "      <th>Product Category 1_mexican</th>\n",
       "      <th>Product Category 1_vietnamese</th>\n",
       "    </tr>\n",
       "  </thead>\n",
       "  <tbody>\n",
       "    <tr>\n",
       "      <th>0</th>\n",
       "      <td>0</td>\n",
       "      <td>0</td>\n",
       "      <td>0</td>\n",
       "      <td>0</td>\n",
       "      <td>0</td>\n",
       "      <td>1</td>\n",
       "      <td>0</td>\n",
       "      <td>0</td>\n",
       "      <td>0</td>\n",
       "      <td>0</td>\n",
       "      <td>1</td>\n",
       "      <td>0</td>\n",
       "      <td>0</td>\n",
       "      <td>0</td>\n",
       "      <td>0</td>\n",
       "      <td>0</td>\n",
       "      <td>0</td>\n",
       "      <td>1</td>\n",
       "      <td>0</td>\n",
       "      <td>0</td>\n",
       "    </tr>\n",
       "    <tr>\n",
       "      <th>1</th>\n",
       "      <td>0</td>\n",
       "      <td>0</td>\n",
       "      <td>0</td>\n",
       "      <td>1</td>\n",
       "      <td>0</td>\n",
       "      <td>0</td>\n",
       "      <td>0</td>\n",
       "      <td>0</td>\n",
       "      <td>0</td>\n",
       "      <td>0</td>\n",
       "      <td>0</td>\n",
       "      <td>0</td>\n",
       "      <td>0</td>\n",
       "      <td>1</td>\n",
       "      <td>0</td>\n",
       "      <td>1</td>\n",
       "      <td>0</td>\n",
       "      <td>0</td>\n",
       "      <td>0</td>\n",
       "      <td>0</td>\n",
       "    </tr>\n",
       "    <tr>\n",
       "      <th>2</th>\n",
       "      <td>0</td>\n",
       "      <td>0</td>\n",
       "      <td>1</td>\n",
       "      <td>0</td>\n",
       "      <td>0</td>\n",
       "      <td>0</td>\n",
       "      <td>0</td>\n",
       "      <td>0</td>\n",
       "      <td>0</td>\n",
       "      <td>0</td>\n",
       "      <td>0</td>\n",
       "      <td>0</td>\n",
       "      <td>0</td>\n",
       "      <td>1</td>\n",
       "      <td>0</td>\n",
       "      <td>0</td>\n",
       "      <td>0</td>\n",
       "      <td>1</td>\n",
       "      <td>0</td>\n",
       "      <td>0</td>\n",
       "    </tr>\n",
       "    <tr>\n",
       "      <th>3</th>\n",
       "      <td>0</td>\n",
       "      <td>0</td>\n",
       "      <td>0</td>\n",
       "      <td>0</td>\n",
       "      <td>1</td>\n",
       "      <td>0</td>\n",
       "      <td>0</td>\n",
       "      <td>0</td>\n",
       "      <td>0</td>\n",
       "      <td>0</td>\n",
       "      <td>1</td>\n",
       "      <td>0</td>\n",
       "      <td>0</td>\n",
       "      <td>0</td>\n",
       "      <td>0</td>\n",
       "      <td>0</td>\n",
       "      <td>0</td>\n",
       "      <td>0</td>\n",
       "      <td>1</td>\n",
       "      <td>0</td>\n",
       "    </tr>\n",
       "    <tr>\n",
       "      <th>4</th>\n",
       "      <td>0</td>\n",
       "      <td>1</td>\n",
       "      <td>0</td>\n",
       "      <td>0</td>\n",
       "      <td>0</td>\n",
       "      <td>0</td>\n",
       "      <td>0</td>\n",
       "      <td>0</td>\n",
       "      <td>0</td>\n",
       "      <td>0</td>\n",
       "      <td>0</td>\n",
       "      <td>0</td>\n",
       "      <td>0</td>\n",
       "      <td>1</td>\n",
       "      <td>0</td>\n",
       "      <td>0</td>\n",
       "      <td>1</td>\n",
       "      <td>0</td>\n",
       "      <td>0</td>\n",
       "      <td>0</td>\n",
       "    </tr>\n",
       "    <tr>\n",
       "      <th>...</th>\n",
       "      <td>...</td>\n",
       "      <td>...</td>\n",
       "      <td>...</td>\n",
       "      <td>...</td>\n",
       "      <td>...</td>\n",
       "      <td>...</td>\n",
       "      <td>...</td>\n",
       "      <td>...</td>\n",
       "      <td>...</td>\n",
       "      <td>...</td>\n",
       "      <td>...</td>\n",
       "      <td>...</td>\n",
       "      <td>...</td>\n",
       "      <td>...</td>\n",
       "      <td>...</td>\n",
       "      <td>...</td>\n",
       "      <td>...</td>\n",
       "      <td>...</td>\n",
       "      <td>...</td>\n",
       "      <td>...</td>\n",
       "    </tr>\n",
       "    <tr>\n",
       "      <th>1081479</th>\n",
       "      <td>0</td>\n",
       "      <td>1</td>\n",
       "      <td>0</td>\n",
       "      <td>0</td>\n",
       "      <td>0</td>\n",
       "      <td>0</td>\n",
       "      <td>0</td>\n",
       "      <td>0</td>\n",
       "      <td>0</td>\n",
       "      <td>0</td>\n",
       "      <td>0</td>\n",
       "      <td>0</td>\n",
       "      <td>0</td>\n",
       "      <td>1</td>\n",
       "      <td>0</td>\n",
       "      <td>0</td>\n",
       "      <td>0</td>\n",
       "      <td>0</td>\n",
       "      <td>0</td>\n",
       "      <td>1</td>\n",
       "    </tr>\n",
       "    <tr>\n",
       "      <th>1081480</th>\n",
       "      <td>0</td>\n",
       "      <td>0</td>\n",
       "      <td>0</td>\n",
       "      <td>0</td>\n",
       "      <td>0</td>\n",
       "      <td>1</td>\n",
       "      <td>0</td>\n",
       "      <td>0</td>\n",
       "      <td>0</td>\n",
       "      <td>0</td>\n",
       "      <td>1</td>\n",
       "      <td>0</td>\n",
       "      <td>0</td>\n",
       "      <td>0</td>\n",
       "      <td>0</td>\n",
       "      <td>0</td>\n",
       "      <td>0</td>\n",
       "      <td>0</td>\n",
       "      <td>0</td>\n",
       "      <td>1</td>\n",
       "    </tr>\n",
       "    <tr>\n",
       "      <th>1081481</th>\n",
       "      <td>0</td>\n",
       "      <td>0</td>\n",
       "      <td>0</td>\n",
       "      <td>0</td>\n",
       "      <td>0</td>\n",
       "      <td>1</td>\n",
       "      <td>0</td>\n",
       "      <td>0</td>\n",
       "      <td>0</td>\n",
       "      <td>0</td>\n",
       "      <td>1</td>\n",
       "      <td>0</td>\n",
       "      <td>0</td>\n",
       "      <td>0</td>\n",
       "      <td>0</td>\n",
       "      <td>0</td>\n",
       "      <td>0</td>\n",
       "      <td>0</td>\n",
       "      <td>0</td>\n",
       "      <td>1</td>\n",
       "    </tr>\n",
       "    <tr>\n",
       "      <th>1081482</th>\n",
       "      <td>0</td>\n",
       "      <td>0</td>\n",
       "      <td>0</td>\n",
       "      <td>0</td>\n",
       "      <td>0</td>\n",
       "      <td>1</td>\n",
       "      <td>0</td>\n",
       "      <td>0</td>\n",
       "      <td>0</td>\n",
       "      <td>0</td>\n",
       "      <td>1</td>\n",
       "      <td>0</td>\n",
       "      <td>0</td>\n",
       "      <td>0</td>\n",
       "      <td>0</td>\n",
       "      <td>0</td>\n",
       "      <td>0</td>\n",
       "      <td>0</td>\n",
       "      <td>0</td>\n",
       "      <td>1</td>\n",
       "    </tr>\n",
       "    <tr>\n",
       "      <th>1081483</th>\n",
       "      <td>0</td>\n",
       "      <td>0</td>\n",
       "      <td>0</td>\n",
       "      <td>0</td>\n",
       "      <td>1</td>\n",
       "      <td>0</td>\n",
       "      <td>0</td>\n",
       "      <td>0</td>\n",
       "      <td>0</td>\n",
       "      <td>0</td>\n",
       "      <td>1</td>\n",
       "      <td>0</td>\n",
       "      <td>0</td>\n",
       "      <td>0</td>\n",
       "      <td>0</td>\n",
       "      <td>0</td>\n",
       "      <td>0</td>\n",
       "      <td>0</td>\n",
       "      <td>0</td>\n",
       "      <td>1</td>\n",
       "    </tr>\n",
       "  </tbody>\n",
       "</table>\n",
       "<p>1081484 rows × 20 columns</p>\n",
       "</div>"
      ],
      "text/plain": [
       "         Area 1_beyond the wall  Area 1_the crownlands  Area 1_the north  \\\n",
       "0                             0                      0                 0   \n",
       "1                             0                      0                 0   \n",
       "2                             0                      0                 1   \n",
       "3                             0                      0                 0   \n",
       "4                             0                      1                 0   \n",
       "...                         ...                    ...               ...   \n",
       "1081479                       0                      1                 0   \n",
       "1081480                       0                      0                 0   \n",
       "1081481                       0                      0                 0   \n",
       "1081482                       0                      0                 0   \n",
       "1081483                       0                      0                 0   \n",
       "\n",
       "         Area 1_the riverlands  Area 1_the stormlands  Area 1_the westerlands  \\\n",
       "0                            0                      0                       1   \n",
       "1                            1                      0                       0   \n",
       "2                            0                      0                       0   \n",
       "3                            0                      1                       0   \n",
       "4                            0                      0                       0   \n",
       "...                        ...                    ...                     ...   \n",
       "1081479                      0                      0                       0   \n",
       "1081480                      0                      0                       1   \n",
       "1081481                      0                      0                       1   \n",
       "1081482                      0                      0                       1   \n",
       "1081483                      0                      1                       0   \n",
       "\n",
       "         Area 3 Classification_archmaester  Area 3 Classification_greenstone  \\\n",
       "0                                        0                                 0   \n",
       "1                                        0                                 0   \n",
       "2                                        0                                 0   \n",
       "3                                        0                                 0   \n",
       "4                                        0                                 0   \n",
       "...                                    ...                               ...   \n",
       "1081479                                  0                                 0   \n",
       "1081480                                  0                                 0   \n",
       "1081481                                  0                                 0   \n",
       "1081482                                  0                                 0   \n",
       "1081483                                  0                                 0   \n",
       "\n",
       "         Area 3 Classification_hand of the king  Area 3 Classification_khal  \\\n",
       "0                                             0                           0   \n",
       "1                                             0                           0   \n",
       "2                                             0                           0   \n",
       "3                                             0                           0   \n",
       "4                                             0                           0   \n",
       "...                                         ...                         ...   \n",
       "1081479                                       0                           0   \n",
       "1081480                                       0                           0   \n",
       "1081481                                       0                           0   \n",
       "1081482                                       0                           0   \n",
       "1081483                                       0                           0   \n",
       "\n",
       "         Area 3 Classification_lord of the crossing  \\\n",
       "0                                                 1   \n",
       "1                                                 0   \n",
       "2                                                 0   \n",
       "3                                                 1   \n",
       "4                                                 0   \n",
       "...                                             ...   \n",
       "1081479                                           0   \n",
       "1081480                                           1   \n",
       "1081481                                           1   \n",
       "1081482                                           1   \n",
       "1081483                                           1   \n",
       "\n",
       "         Area 3 Classification_maester  Area 3 Classification_queen  \\\n",
       "0                                    0                            0   \n",
       "1                                    0                            0   \n",
       "2                                    0                            0   \n",
       "3                                    0                            0   \n",
       "4                                    0                            0   \n",
       "...                                ...                          ...   \n",
       "1081479                              0                            0   \n",
       "1081480                              0                            0   \n",
       "1081481                              0                            0   \n",
       "1081482                              0                            0   \n",
       "1081483                              0                            0   \n",
       "\n",
       "         Area 3 Classification_ser  Product Category 1_chinese  \\\n",
       "0                                0                           0   \n",
       "1                                1                           0   \n",
       "2                                1                           0   \n",
       "3                                0                           0   \n",
       "4                                1                           0   \n",
       "...                            ...                         ...   \n",
       "1081479                          1                           0   \n",
       "1081480                          0                           0   \n",
       "1081481                          0                           0   \n",
       "1081482                          0                           0   \n",
       "1081483                          0                           0   \n",
       "\n",
       "         Product Category 1_greek  Product Category 1_indian  \\\n",
       "0                               0                          0   \n",
       "1                               1                          0   \n",
       "2                               0                          0   \n",
       "3                               0                          0   \n",
       "4                               0                          1   \n",
       "...                           ...                        ...   \n",
       "1081479                         0                          0   \n",
       "1081480                         0                          0   \n",
       "1081481                         0                          0   \n",
       "1081482                         0                          0   \n",
       "1081483                         0                          0   \n",
       "\n",
       "         Product Category 1_korean  Product Category 1_mexican  \\\n",
       "0                                1                           0   \n",
       "1                                0                           0   \n",
       "2                                1                           0   \n",
       "3                                0                           1   \n",
       "4                                0                           0   \n",
       "...                            ...                         ...   \n",
       "1081479                          0                           0   \n",
       "1081480                          0                           0   \n",
       "1081481                          0                           0   \n",
       "1081482                          0                           0   \n",
       "1081483                          0                           0   \n",
       "\n",
       "         Product Category 1_vietnamese  \n",
       "0                                    0  \n",
       "1                                    0  \n",
       "2                                    0  \n",
       "3                                    0  \n",
       "4                                    0  \n",
       "...                                ...  \n",
       "1081479                              1  \n",
       "1081480                              1  \n",
       "1081481                              1  \n",
       "1081482                              1  \n",
       "1081483                              1  \n",
       "\n",
       "[1081484 rows x 20 columns]"
      ]
     },
     "execution_count": 20,
     "metadata": {},
     "output_type": "execute_result"
    }
   ],
   "source": [
    "dummy_var"
   ]
  },
  {
   "cell_type": "code",
   "execution_count": 21,
   "id": "b8ea8621",
   "metadata": {},
   "outputs": [],
   "source": [
    "df1=pd.concat([df,dummy_var],1)"
   ]
  },
  {
   "cell_type": "code",
   "execution_count": 22,
   "id": "8b27155d",
   "metadata": {},
   "outputs": [
    {
     "data": {
      "text/html": [
       "<div>\n",
       "<style scoped>\n",
       "    .dataframe tbody tr th:only-of-type {\n",
       "        vertical-align: middle;\n",
       "    }\n",
       "\n",
       "    .dataframe tbody tr th {\n",
       "        vertical-align: top;\n",
       "    }\n",
       "\n",
       "    .dataframe thead th {\n",
       "        text-align: right;\n",
       "    }\n",
       "</style>\n",
       "<table border=\"1\" class=\"dataframe\">\n",
       "  <thead>\n",
       "    <tr style=\"text-align: right;\">\n",
       "      <th></th>\n",
       "      <th>MONTH</th>\n",
       "      <th>Company</th>\n",
       "      <th>Area 2</th>\n",
       "      <th>Area 3</th>\n",
       "      <th>Outlet Type</th>\n",
       "      <th>Outlet Name</th>\n",
       "      <th>Product Category 2</th>\n",
       "      <th>Product</th>\n",
       "      <th>Revenue</th>\n",
       "      <th>Commission</th>\n",
       "      <th>...</th>\n",
       "      <th>Area 3 Classification_lord of the crossing</th>\n",
       "      <th>Area 3 Classification_maester</th>\n",
       "      <th>Area 3 Classification_queen</th>\n",
       "      <th>Area 3 Classification_ser</th>\n",
       "      <th>Product Category 1_chinese</th>\n",
       "      <th>Product Category 1_greek</th>\n",
       "      <th>Product Category 1_indian</th>\n",
       "      <th>Product Category 1_korean</th>\n",
       "      <th>Product Category 1_mexican</th>\n",
       "      <th>Product Category 1_vietnamese</th>\n",
       "    </tr>\n",
       "  </thead>\n",
       "  <tbody>\n",
       "    <tr>\n",
       "      <th>0</th>\n",
       "      <td>0.0</td>\n",
       "      <td>1</td>\n",
       "      <td>61596</td>\n",
       "      <td>61052</td>\n",
       "      <td>62113</td>\n",
       "      <td>185404</td>\n",
       "      <td>28010</td>\n",
       "      <td>13756</td>\n",
       "      <td>49717.353917</td>\n",
       "      <td>0.000000</td>\n",
       "      <td>...</td>\n",
       "      <td>1</td>\n",
       "      <td>0</td>\n",
       "      <td>0</td>\n",
       "      <td>0</td>\n",
       "      <td>0</td>\n",
       "      <td>0</td>\n",
       "      <td>0</td>\n",
       "      <td>1</td>\n",
       "      <td>0</td>\n",
       "      <td>0</td>\n",
       "    </tr>\n",
       "    <tr>\n",
       "      <th>1</th>\n",
       "      <td>1.0</td>\n",
       "      <td>1</td>\n",
       "      <td>57281</td>\n",
       "      <td>3931</td>\n",
       "      <td>57281</td>\n",
       "      <td>3184</td>\n",
       "      <td>160871</td>\n",
       "      <td>24291</td>\n",
       "      <td>249494.572083</td>\n",
       "      <td>0.000000</td>\n",
       "      <td>...</td>\n",
       "      <td>0</td>\n",
       "      <td>0</td>\n",
       "      <td>0</td>\n",
       "      <td>1</td>\n",
       "      <td>0</td>\n",
       "      <td>1</td>\n",
       "      <td>0</td>\n",
       "      <td>0</td>\n",
       "      <td>0</td>\n",
       "      <td>0</td>\n",
       "    </tr>\n",
       "    <tr>\n",
       "      <th>2</th>\n",
       "      <td>2.0</td>\n",
       "      <td>0</td>\n",
       "      <td>40181</td>\n",
       "      <td>13536</td>\n",
       "      <td>40181</td>\n",
       "      <td>3308</td>\n",
       "      <td>2218</td>\n",
       "      <td>2026</td>\n",
       "      <td>54351.125584</td>\n",
       "      <td>4393.135151</td>\n",
       "      <td>...</td>\n",
       "      <td>0</td>\n",
       "      <td>0</td>\n",
       "      <td>0</td>\n",
       "      <td>1</td>\n",
       "      <td>0</td>\n",
       "      <td>0</td>\n",
       "      <td>0</td>\n",
       "      <td>1</td>\n",
       "      <td>0</td>\n",
       "      <td>0</td>\n",
       "    </tr>\n",
       "    <tr>\n",
       "      <th>3</th>\n",
       "      <td>1.0</td>\n",
       "      <td>1</td>\n",
       "      <td>72926</td>\n",
       "      <td>65714</td>\n",
       "      <td>78727</td>\n",
       "      <td>3195</td>\n",
       "      <td>160871</td>\n",
       "      <td>12130</td>\n",
       "      <td>33467.167489</td>\n",
       "      <td>0.000000</td>\n",
       "      <td>...</td>\n",
       "      <td>1</td>\n",
       "      <td>0</td>\n",
       "      <td>0</td>\n",
       "      <td>0</td>\n",
       "      <td>0</td>\n",
       "      <td>0</td>\n",
       "      <td>0</td>\n",
       "      <td>0</td>\n",
       "      <td>1</td>\n",
       "      <td>0</td>\n",
       "    </tr>\n",
       "    <tr>\n",
       "      <th>4</th>\n",
       "      <td>0.0</td>\n",
       "      <td>1</td>\n",
       "      <td>52263</td>\n",
       "      <td>45648</td>\n",
       "      <td>52132</td>\n",
       "      <td>949</td>\n",
       "      <td>76483</td>\n",
       "      <td>6755</td>\n",
       "      <td>27256.068984</td>\n",
       "      <td>0.000000</td>\n",
       "      <td>...</td>\n",
       "      <td>0</td>\n",
       "      <td>0</td>\n",
       "      <td>0</td>\n",
       "      <td>1</td>\n",
       "      <td>0</td>\n",
       "      <td>0</td>\n",
       "      <td>1</td>\n",
       "      <td>0</td>\n",
       "      <td>0</td>\n",
       "      <td>0</td>\n",
       "    </tr>\n",
       "  </tbody>\n",
       "</table>\n",
       "<p>5 rows × 30 columns</p>\n",
       "</div>"
      ],
      "text/plain": [
       "   MONTH  Company  Area 2  Area 3  Outlet Type  Outlet Name  \\\n",
       "0    0.0        1   61596   61052        62113       185404   \n",
       "1    1.0        1   57281    3931        57281         3184   \n",
       "2    2.0        0   40181   13536        40181         3308   \n",
       "3    1.0        1   72926   65714        78727         3195   \n",
       "4    0.0        1   52263   45648        52132          949   \n",
       "\n",
       "   Product Category 2  Product        Revenue   Commission  ...  \\\n",
       "0               28010    13756   49717.353917     0.000000  ...   \n",
       "1              160871    24291  249494.572083     0.000000  ...   \n",
       "2                2218     2026   54351.125584  4393.135151  ...   \n",
       "3              160871    12130   33467.167489     0.000000  ...   \n",
       "4               76483     6755   27256.068984     0.000000  ...   \n",
       "\n",
       "   Area 3 Classification_lord of the crossing  Area 3 Classification_maester  \\\n",
       "0                                           1                              0   \n",
       "1                                           0                              0   \n",
       "2                                           0                              0   \n",
       "3                                           1                              0   \n",
       "4                                           0                              0   \n",
       "\n",
       "   Area 3 Classification_queen  Area 3 Classification_ser  \\\n",
       "0                            0                          0   \n",
       "1                            0                          1   \n",
       "2                            0                          1   \n",
       "3                            0                          0   \n",
       "4                            0                          1   \n",
       "\n",
       "   Product Category 1_chinese  Product Category 1_greek  \\\n",
       "0                           0                         0   \n",
       "1                           0                         1   \n",
       "2                           0                         0   \n",
       "3                           0                         0   \n",
       "4                           0                         0   \n",
       "\n",
       "   Product Category 1_indian  Product Category 1_korean  \\\n",
       "0                          0                          1   \n",
       "1                          0                          0   \n",
       "2                          0                          1   \n",
       "3                          0                          0   \n",
       "4                          1                          0   \n",
       "\n",
       "   Product Category 1_mexican  Product Category 1_vietnamese  \n",
       "0                           0                              0  \n",
       "1                           0                              0  \n",
       "2                           0                              0  \n",
       "3                           1                              0  \n",
       "4                           0                              0  \n",
       "\n",
       "[5 rows x 30 columns]"
      ]
     },
     "execution_count": 22,
     "metadata": {},
     "output_type": "execute_result"
    }
   ],
   "source": [
    "df1.head()"
   ]
  },
  {
   "cell_type": "code",
   "execution_count": 23,
   "id": "f3014df9",
   "metadata": {},
   "outputs": [],
   "source": [
    "from sklearn.preprocessing import StandardScaler,Normalizer,MinMaxScaler"
   ]
  },
  {
   "cell_type": "code",
   "execution_count": 26,
   "id": "f66c2df3",
   "metadata": {},
   "outputs": [],
   "source": [
    "scaler=StandardScaler()\n",
    "scaled=scaler.fit_transform(numdf)\n",
    "scaled_df=pd.DataFrame(scaled,columns=numdf.columns)"
   ]
  },
  {
   "cell_type": "code",
   "execution_count": 27,
   "id": "5c0bde46",
   "metadata": {},
   "outputs": [
    {
     "data": {
      "text/plain": [
       "Index(['MONTH', 'Company', 'Area 2', 'Area 3', 'Outlet Type', 'Outlet Name',\n",
       "       'Product Category 2', 'Product', 'Revenue', 'Commission',\n",
       "       'Area 1_beyond the wall', 'Area 1_the crownlands', 'Area 1_the north',\n",
       "       'Area 1_the riverlands', 'Area 1_the stormlands',\n",
       "       'Area 1_the westerlands', 'Area 3 Classification_archmaester',\n",
       "       'Area 3 Classification_greenstone',\n",
       "       'Area 3 Classification_hand of the king', 'Area 3 Classification_khal',\n",
       "       'Area 3 Classification_lord of the crossing',\n",
       "       'Area 3 Classification_maester', 'Area 3 Classification_queen',\n",
       "       'Area 3 Classification_ser', 'Product Category 1_chinese',\n",
       "       'Product Category 1_greek', 'Product Category 1_indian',\n",
       "       'Product Category 1_korean', 'Product Category 1_mexican',\n",
       "       'Product Category 1_vietnamese'],\n",
       "      dtype='object')"
      ]
     },
     "execution_count": 27,
     "metadata": {},
     "output_type": "execute_result"
    }
   ],
   "source": [
    "df1.columns"
   ]
  },
  {
   "cell_type": "code",
   "execution_count": 25,
   "id": "68ba90e1",
   "metadata": {},
   "outputs": [],
   "source": [
    "numdf=df[['Area 2', 'Area 3', 'Outlet Type', 'Outlet Name',\n",
    "       'Product Category 2', 'Product', 'Revenue','MONTH']]"
   ]
  },
  {
   "cell_type": "code",
   "execution_count": 28,
   "id": "89a463b2",
   "metadata": {},
   "outputs": [
    {
     "data": {
      "text/html": [
       "<div>\n",
       "<style scoped>\n",
       "    .dataframe tbody tr th:only-of-type {\n",
       "        vertical-align: middle;\n",
       "    }\n",
       "\n",
       "    .dataframe tbody tr th {\n",
       "        vertical-align: top;\n",
       "    }\n",
       "\n",
       "    .dataframe thead th {\n",
       "        text-align: right;\n",
       "    }\n",
       "</style>\n",
       "<table border=\"1\" class=\"dataframe\">\n",
       "  <thead>\n",
       "    <tr style=\"text-align: right;\">\n",
       "      <th></th>\n",
       "      <th>Area 2</th>\n",
       "      <th>Area 3</th>\n",
       "      <th>Outlet Type</th>\n",
       "      <th>Outlet Name</th>\n",
       "      <th>Product Category 2</th>\n",
       "      <th>Product</th>\n",
       "      <th>Revenue</th>\n",
       "      <th>MONTH</th>\n",
       "    </tr>\n",
       "  </thead>\n",
       "  <tbody>\n",
       "    <tr>\n",
       "      <th>0</th>\n",
       "      <td>61596</td>\n",
       "      <td>61052</td>\n",
       "      <td>62113</td>\n",
       "      <td>185404</td>\n",
       "      <td>28010</td>\n",
       "      <td>13756</td>\n",
       "      <td>49717.353917</td>\n",
       "      <td>0.0</td>\n",
       "    </tr>\n",
       "    <tr>\n",
       "      <th>1</th>\n",
       "      <td>57281</td>\n",
       "      <td>3931</td>\n",
       "      <td>57281</td>\n",
       "      <td>3184</td>\n",
       "      <td>160871</td>\n",
       "      <td>24291</td>\n",
       "      <td>249494.572083</td>\n",
       "      <td>1.0</td>\n",
       "    </tr>\n",
       "    <tr>\n",
       "      <th>2</th>\n",
       "      <td>40181</td>\n",
       "      <td>13536</td>\n",
       "      <td>40181</td>\n",
       "      <td>3308</td>\n",
       "      <td>2218</td>\n",
       "      <td>2026</td>\n",
       "      <td>54351.125584</td>\n",
       "      <td>2.0</td>\n",
       "    </tr>\n",
       "    <tr>\n",
       "      <th>3</th>\n",
       "      <td>72926</td>\n",
       "      <td>65714</td>\n",
       "      <td>78727</td>\n",
       "      <td>3195</td>\n",
       "      <td>160871</td>\n",
       "      <td>12130</td>\n",
       "      <td>33467.167489</td>\n",
       "      <td>1.0</td>\n",
       "    </tr>\n",
       "    <tr>\n",
       "      <th>4</th>\n",
       "      <td>52263</td>\n",
       "      <td>45648</td>\n",
       "      <td>52132</td>\n",
       "      <td>949</td>\n",
       "      <td>76483</td>\n",
       "      <td>6755</td>\n",
       "      <td>27256.068984</td>\n",
       "      <td>0.0</td>\n",
       "    </tr>\n",
       "  </tbody>\n",
       "</table>\n",
       "</div>"
      ],
      "text/plain": [
       "   Area 2  Area 3  Outlet Type  Outlet Name  Product Category 2  Product  \\\n",
       "0   61596   61052        62113       185404               28010    13756   \n",
       "1   57281    3931        57281         3184              160871    24291   \n",
       "2   40181   13536        40181         3308                2218     2026   \n",
       "3   72926   65714        78727         3195              160871    12130   \n",
       "4   52263   45648        52132          949               76483     6755   \n",
       "\n",
       "         Revenue  MONTH  \n",
       "0   49717.353917    0.0  \n",
       "1  249494.572083    1.0  \n",
       "2   54351.125584    2.0  \n",
       "3   33467.167489    1.0  \n",
       "4   27256.068984    0.0  "
      ]
     },
     "execution_count": 28,
     "metadata": {},
     "output_type": "execute_result"
    }
   ],
   "source": [
    "numdf.head()"
   ]
  },
  {
   "cell_type": "code",
   "execution_count": 29,
   "id": "08c4be57",
   "metadata": {},
   "outputs": [],
   "source": [
    "df1=df1.drop(['Area 2', 'Area 3', 'Outlet Type', 'Outlet Name',\n",
    "       'Product Category 2', 'Product', 'Revenue','MONTH'],1)"
   ]
  },
  {
   "cell_type": "code",
   "execution_count": 30,
   "id": "5c857a76",
   "metadata": {},
   "outputs": [],
   "source": [
    "fin_df=pd.concat([df1,scaled_df],1)"
   ]
  },
  {
   "cell_type": "code",
   "execution_count": 31,
   "id": "6f293b9b",
   "metadata": {},
   "outputs": [
    {
     "data": {
      "text/html": [
       "<div>\n",
       "<style scoped>\n",
       "    .dataframe tbody tr th:only-of-type {\n",
       "        vertical-align: middle;\n",
       "    }\n",
       "\n",
       "    .dataframe tbody tr th {\n",
       "        vertical-align: top;\n",
       "    }\n",
       "\n",
       "    .dataframe thead th {\n",
       "        text-align: right;\n",
       "    }\n",
       "</style>\n",
       "<table border=\"1\" class=\"dataframe\">\n",
       "  <thead>\n",
       "    <tr style=\"text-align: right;\">\n",
       "      <th></th>\n",
       "      <th>Company</th>\n",
       "      <th>Commission</th>\n",
       "      <th>Area 1_beyond the wall</th>\n",
       "      <th>Area 1_the crownlands</th>\n",
       "      <th>Area 1_the north</th>\n",
       "      <th>Area 1_the riverlands</th>\n",
       "      <th>Area 1_the stormlands</th>\n",
       "      <th>Area 1_the westerlands</th>\n",
       "      <th>Area 3 Classification_archmaester</th>\n",
       "      <th>Area 3 Classification_greenstone</th>\n",
       "      <th>...</th>\n",
       "      <th>Product Category 1_mexican</th>\n",
       "      <th>Product Category 1_vietnamese</th>\n",
       "      <th>Area 2</th>\n",
       "      <th>Area 3</th>\n",
       "      <th>Outlet Type</th>\n",
       "      <th>Outlet Name</th>\n",
       "      <th>Product Category 2</th>\n",
       "      <th>Product</th>\n",
       "      <th>Revenue</th>\n",
       "      <th>MONTH</th>\n",
       "    </tr>\n",
       "  </thead>\n",
       "  <tbody>\n",
       "    <tr>\n",
       "      <th>0</th>\n",
       "      <td>1</td>\n",
       "      <td>0.000000</td>\n",
       "      <td>0</td>\n",
       "      <td>0</td>\n",
       "      <td>0</td>\n",
       "      <td>0</td>\n",
       "      <td>0</td>\n",
       "      <td>1</td>\n",
       "      <td>0</td>\n",
       "      <td>0</td>\n",
       "      <td>...</td>\n",
       "      <td>0</td>\n",
       "      <td>0</td>\n",
       "      <td>-0.605155</td>\n",
       "      <td>0.964316</td>\n",
       "      <td>-0.021312</td>\n",
       "      <td>1.745693</td>\n",
       "      <td>-1.149371</td>\n",
       "      <td>-0.394697</td>\n",
       "      <td>-0.373226</td>\n",
       "      <td>-1.657572</td>\n",
       "    </tr>\n",
       "    <tr>\n",
       "      <th>1</th>\n",
       "      <td>1</td>\n",
       "      <td>0.000000</td>\n",
       "      <td>0</td>\n",
       "      <td>0</td>\n",
       "      <td>0</td>\n",
       "      <td>1</td>\n",
       "      <td>0</td>\n",
       "      <td>0</td>\n",
       "      <td>0</td>\n",
       "      <td>0</td>\n",
       "      <td>...</td>\n",
       "      <td>0</td>\n",
       "      <td>0</td>\n",
       "      <td>-0.709154</td>\n",
       "      <td>-1.394485</td>\n",
       "      <td>-0.333093</td>\n",
       "      <td>-0.649580</td>\n",
       "      <td>1.701571</td>\n",
       "      <td>0.765404</td>\n",
       "      <td>0.093305</td>\n",
       "      <td>-1.367981</td>\n",
       "    </tr>\n",
       "    <tr>\n",
       "      <th>2</th>\n",
       "      <td>0</td>\n",
       "      <td>4393.135151</td>\n",
       "      <td>0</td>\n",
       "      <td>0</td>\n",
       "      <td>1</td>\n",
       "      <td>0</td>\n",
       "      <td>0</td>\n",
       "      <td>0</td>\n",
       "      <td>0</td>\n",
       "      <td>0</td>\n",
       "      <td>...</td>\n",
       "      <td>0</td>\n",
       "      <td>0</td>\n",
       "      <td>-1.121297</td>\n",
       "      <td>-0.997848</td>\n",
       "      <td>-1.436456</td>\n",
       "      <td>-0.647950</td>\n",
       "      <td>-1.702818</td>\n",
       "      <td>-1.686389</td>\n",
       "      <td>-0.362405</td>\n",
       "      <td>-1.078391</td>\n",
       "    </tr>\n",
       "    <tr>\n",
       "      <th>3</th>\n",
       "      <td>1</td>\n",
       "      <td>0.000000</td>\n",
       "      <td>0</td>\n",
       "      <td>0</td>\n",
       "      <td>0</td>\n",
       "      <td>0</td>\n",
       "      <td>1</td>\n",
       "      <td>0</td>\n",
       "      <td>0</td>\n",
       "      <td>0</td>\n",
       "      <td>...</td>\n",
       "      <td>1</td>\n",
       "      <td>0</td>\n",
       "      <td>-0.332080</td>\n",
       "      <td>1.156833</td>\n",
       "      <td>1.050692</td>\n",
       "      <td>-0.649436</td>\n",
       "      <td>1.701571</td>\n",
       "      <td>-0.573750</td>\n",
       "      <td>-0.411174</td>\n",
       "      <td>-1.367981</td>\n",
       "    </tr>\n",
       "    <tr>\n",
       "      <th>4</th>\n",
       "      <td>1</td>\n",
       "      <td>0.000000</td>\n",
       "      <td>0</td>\n",
       "      <td>1</td>\n",
       "      <td>0</td>\n",
       "      <td>0</td>\n",
       "      <td>0</td>\n",
       "      <td>0</td>\n",
       "      <td>0</td>\n",
       "      <td>0</td>\n",
       "      <td>...</td>\n",
       "      <td>0</td>\n",
       "      <td>0</td>\n",
       "      <td>-0.830098</td>\n",
       "      <td>0.328211</td>\n",
       "      <td>-0.665328</td>\n",
       "      <td>-0.678959</td>\n",
       "      <td>-0.109234</td>\n",
       "      <td>-1.165638</td>\n",
       "      <td>-0.425679</td>\n",
       "      <td>-1.657572</td>\n",
       "    </tr>\n",
       "  </tbody>\n",
       "</table>\n",
       "<p>5 rows × 30 columns</p>\n",
       "</div>"
      ],
      "text/plain": [
       "   Company   Commission  Area 1_beyond the wall  Area 1_the crownlands  \\\n",
       "0        1     0.000000                       0                      0   \n",
       "1        1     0.000000                       0                      0   \n",
       "2        0  4393.135151                       0                      0   \n",
       "3        1     0.000000                       0                      0   \n",
       "4        1     0.000000                       0                      1   \n",
       "\n",
       "   Area 1_the north  Area 1_the riverlands  Area 1_the stormlands  \\\n",
       "0                 0                      0                      0   \n",
       "1                 0                      1                      0   \n",
       "2                 1                      0                      0   \n",
       "3                 0                      0                      1   \n",
       "4                 0                      0                      0   \n",
       "\n",
       "   Area 1_the westerlands  Area 3 Classification_archmaester  \\\n",
       "0                       1                                  0   \n",
       "1                       0                                  0   \n",
       "2                       0                                  0   \n",
       "3                       0                                  0   \n",
       "4                       0                                  0   \n",
       "\n",
       "   Area 3 Classification_greenstone  ...  Product Category 1_mexican  \\\n",
       "0                                 0  ...                           0   \n",
       "1                                 0  ...                           0   \n",
       "2                                 0  ...                           0   \n",
       "3                                 0  ...                           1   \n",
       "4                                 0  ...                           0   \n",
       "\n",
       "   Product Category 1_vietnamese    Area 2    Area 3  Outlet Type  \\\n",
       "0                              0 -0.605155  0.964316    -0.021312   \n",
       "1                              0 -0.709154 -1.394485    -0.333093   \n",
       "2                              0 -1.121297 -0.997848    -1.436456   \n",
       "3                              0 -0.332080  1.156833     1.050692   \n",
       "4                              0 -0.830098  0.328211    -0.665328   \n",
       "\n",
       "   Outlet Name  Product Category 2   Product   Revenue     MONTH  \n",
       "0     1.745693           -1.149371 -0.394697 -0.373226 -1.657572  \n",
       "1    -0.649580            1.701571  0.765404  0.093305 -1.367981  \n",
       "2    -0.647950           -1.702818 -1.686389 -0.362405 -1.078391  \n",
       "3    -0.649436            1.701571 -0.573750 -0.411174 -1.367981  \n",
       "4    -0.678959           -0.109234 -1.165638 -0.425679 -1.657572  \n",
       "\n",
       "[5 rows x 30 columns]"
      ]
     },
     "execution_count": 31,
     "metadata": {},
     "output_type": "execute_result"
    }
   ],
   "source": [
    "fin_df.head()"
   ]
  },
  {
   "cell_type": "code",
   "execution_count": 32,
   "id": "75f8bfe7",
   "metadata": {},
   "outputs": [],
   "source": [
    "x=fin_df.drop('Commission',1)\n",
    "y=fin_df['Commission']"
   ]
  },
  {
   "cell_type": "code",
   "execution_count": 61,
   "id": "c760a2e0",
   "metadata": {},
   "outputs": [],
   "source": [
    "from sklearn.model_selection import train_test_split\n",
    "xtrain,xtest,ytrain,ytest=train_test_split(x,y,test_size=.3,random_state=100)"
   ]
  },
  {
   "cell_type": "code",
   "execution_count": 62,
   "id": "1fe39327",
   "metadata": {},
   "outputs": [],
   "source": [
    "from sklearn.linear_model import LinearRegression"
   ]
  },
  {
   "cell_type": "code",
   "execution_count": 63,
   "id": "abffefc6",
   "metadata": {},
   "outputs": [],
   "source": [
    "lr=LinearRegression()"
   ]
  },
  {
   "cell_type": "code",
   "execution_count": 66,
   "id": "3e0c3fb0",
   "metadata": {},
   "outputs": [],
   "source": [
    "def model(mod,xtrain,xtest,ytrain,ytest):\n",
    "    mod.fit(xtrain,ytrain)\n",
    "    ypred_test=mod.predict(xtest)\n",
    "    ypred_train=mod.predict(xtrain)\n",
    "    print('Train Score:',r2_score(ytrain,ypred_train))\n",
    "    print('Test Score:',r2_score(ytest,ypred_test))\n",
    "    print('Train MSE:',mean_squared_error(ytrain,ypred_train))\n",
    "    print('Test MSE:',mean_squared_error(ytest,ypred_test))"
   ]
  },
  {
   "cell_type": "code",
   "execution_count": 65,
   "id": "5f810229",
   "metadata": {},
   "outputs": [],
   "source": [
    "from sklearn.metrics import r2_score,mean_squared_error"
   ]
  },
  {
   "cell_type": "code",
   "execution_count": 67,
   "id": "7afcc299",
   "metadata": {},
   "outputs": [
    {
     "name": "stdout",
     "output_type": "stream",
     "text": [
      "Train Score: 0.22358286473652056\n",
      "Test Score: 0.20496768756825567\n",
      "Train MSE: 269000482.6427608\n",
      "Test MSE: 305985961.0471011\n"
     ]
    }
   ],
   "source": [
    "model(lr,xtrain,xtest,ytrain,ytest)"
   ]
  },
  {
   "cell_type": "code",
   "execution_count": 68,
   "id": "549a6ea5",
   "metadata": {},
   "outputs": [],
   "source": [
    "from sklearn.tree import DecisionTreeRegressor\n",
    "dt=DecisionTreeRegressor()"
   ]
  },
  {
   "cell_type": "code",
   "execution_count": 69,
   "id": "1aa6fe67",
   "metadata": {},
   "outputs": [
    {
     "name": "stdout",
     "output_type": "stream",
     "text": [
      "Train Score: 0.9999999459014005\n",
      "Test Score: 0.6297568505780564\n",
      "Train MSE: 18.74320996111729\n",
      "Test MSE: 142496354.0795772\n"
     ]
    }
   ],
   "source": [
    "model(dt,xtrain,xtest,ytrain,ytest)"
   ]
  },
  {
   "cell_type": "code",
   "execution_count": 70,
   "id": "fef294fb",
   "metadata": {},
   "outputs": [],
   "source": [
    "from sklearn.ensemble import RandomForestRegressor\n",
    "rf=RandomForestRegressor()"
   ]
  },
  {
   "cell_type": "code",
   "execution_count": 71,
   "id": "dcc43fee",
   "metadata": {},
   "outputs": [
    {
     "name": "stdout",
     "output_type": "stream",
     "text": [
      "Train Score: 0.9637847253542264\n",
      "Test Score: 0.7202662787889328\n",
      "Train MSE: 12547284.077453112\n",
      "Test MSE: 107661776.99148396\n"
     ]
    }
   ],
   "source": [
    "model(rf,xtrain,xtest,ytrain,ytest)"
   ]
  },
  {
   "cell_type": "code",
   "execution_count": 72,
   "id": "1baf3688",
   "metadata": {},
   "outputs": [],
   "source": [
    "from sklearn.ensemble import AdaBoostRegressor\n",
    "ad=AdaBoostRegressor()"
   ]
  },
  {
   "cell_type": "code",
   "execution_count": 73,
   "id": "55e9c7f2",
   "metadata": {},
   "outputs": [
    {
     "name": "stdout",
     "output_type": "stream",
     "text": [
      "Train Score: 0.3619683537346585\n",
      "Test Score: 0.2782847105677735\n",
      "Train MSE: 221054911.06721735\n",
      "Test MSE: 277768265.49834836\n"
     ]
    }
   ],
   "source": [
    "model(ad,xtrain,xtest,ytrain,ytest)"
   ]
  },
  {
   "cell_type": "code",
   "execution_count": 74,
   "id": "09dc44cc",
   "metadata": {},
   "outputs": [],
   "source": [
    "from sklearn.ensemble import GradientBoostingRegressor\n",
    "gb=GradientBoostingRegressor()"
   ]
  },
  {
   "cell_type": "code",
   "execution_count": 75,
   "id": "9ec65812",
   "metadata": {},
   "outputs": [
    {
     "name": "stdout",
     "output_type": "stream",
     "text": [
      "Train Score: 0.7013438960082503\n",
      "Test Score: 0.6584267179788721\n",
      "Train MSE: 103473548.52069831\n",
      "Test MSE: 131462114.59955016\n"
     ]
    }
   ],
   "source": [
    "model(gb,xtrain,xtest,ytrain,ytest)"
   ]
  },
  {
   "cell_type": "code",
   "execution_count": 80,
   "id": "1abdf973",
   "metadata": {},
   "outputs": [],
   "source": [
    "from sklearn.feature_selection import mutual_info_regression\n",
    "minfo=mutual_info_regression(xtrain,ytrain)"
   ]
  },
  {
   "cell_type": "code",
   "execution_count": 81,
   "id": "a871ea4a",
   "metadata": {},
   "outputs": [
    {
     "data": {
      "text/plain": [
       "Revenue                                       1.065516\n",
       "Product                                       0.508551\n",
       "Product Category 2                            0.348980\n",
       "Company                                       0.149457\n",
       "Outlet Name                                   0.069596\n",
       "MONTH                                         0.053088\n",
       "Area 3                                        0.044560\n",
       "Outlet Type                                   0.035241\n",
       "Area 2                                        0.032162\n",
       "Product Category 1_indian                     0.030570\n",
       "Product Category 1_greek                      0.030500\n",
       "Product Category 1_korean                     0.023929\n",
       "Product Category 1_mexican                    0.023744\n",
       "Area 3 Classification_lord of the crossing    0.013743\n",
       "Product Category 1_vietnamese                 0.008066\n",
       "Area 1_the stormlands                         0.006661\n",
       "Area 1_the crownlands                         0.004894\n",
       "Product Category 1_chinese                    0.004842\n",
       "Area 1_beyond the wall                        0.004606\n",
       "Area 1_the westerlands                        0.004387\n",
       "Area 1_the north                              0.004336\n",
       "Area 3 Classification_archmaester             0.002721\n",
       "Area 3 Classification_ser                     0.002703\n",
       "Area 3 Classification_greenstone              0.002363\n",
       "Area 3 Classification_queen                   0.001911\n",
       "Area 3 Classification_hand of the king        0.001248\n",
       "Area 3 Classification_maester                 0.001204\n",
       "Area 1_the riverlands                         0.000985\n",
       "Area 3 Classification_khal                    0.000462\n",
       "dtype: float64"
      ]
     },
     "execution_count": 81,
     "metadata": {},
     "output_type": "execute_result"
    }
   ],
   "source": [
    "minfo=pd.Series(minfo)\n",
    "minfo.index=xtrain.columns\n",
    "minfo.sort_values(ascending=False).head(30)"
   ]
  },
  {
   "cell_type": "code",
   "execution_count": 85,
   "id": "e3dbed8b",
   "metadata": {},
   "outputs": [
    {
     "data": {
      "text/plain": [
       "<AxesSubplot:>"
      ]
     },
     "execution_count": 85,
     "metadata": {},
     "output_type": "execute_result"
    },
    {
     "data": {
      "image/png": "[encoded data removed]",
      "text/plain": [
       "<Figure size 432x288 with 1 Axes>"
      ]
     },
     "metadata": {
      "needs_background": "light"
     },
     "output_type": "display_data"
    }
   ],
   "source": [
    "minfo.sort_values(ascending=False).head(15).plot(kind='barh')"
   ]
  },
  {
   "cell_type": "code",
   "execution_count": 86,
   "id": "4817092f",
   "metadata": {},
   "outputs": [
    {
     "data": {
      "text/html": [
       "<style>#sk-container-id-1 {color: black;background-color: white;}#sk-container-id-1 pre{padding: 0;}#sk-container-id-1 div.sk-toggleable {background-color: white;}#sk-container-id-1 label.sk-toggleable__label {cursor: pointer;display: block;width: 100%;margin-bottom: 0;padding: 0.3em;box-sizing: border-box;text-align: center;}#sk-container-id-1 label.sk-toggleable__label-arrow:before {content: \"▸\";float: left;margin-right: 0.25em;color: #696969;}#sk-container-id-1 label.sk-toggleable__label-arrow:hover:before {color: black;}#sk-container-id-1 div.sk-estimator:hover label.sk-toggleable__label-arrow:before {color: black;}#sk-container-id-1 div.sk-toggleable__content {max-height: 0;max-width: 0;overflow: hidden;text-align: left;background-color: #f0f8ff;}#sk-container-id-1 div.sk-toggleable__content pre {margin: 0.2em;color: black;border-radius: 0.25em;background-color: #f0f8ff;}#sk-container-id-1 input.sk-toggleable__control:checked~div.sk-toggleable__content {max-height: 200px;max-width: 100%;overflow: auto;}#sk-container-id-1 input.sk-toggleable__control:checked~label.sk-toggleable__label-arrow:before {content: \"▾\";}#sk-container-id-1 div.sk-estimator input.sk-toggleable__control:checked~label.sk-toggleable__label {background-color: #d4ebff;}#sk-container-id-1 div.sk-label input.sk-toggleable__control:checked~label.sk-toggleable__label {background-color: #d4ebff;}#sk-container-id-1 input.sk-hidden--visually {border: 0;clip: rect(1px 1px 1px 1px);clip: rect(1px, 1px, 1px, 1px);height: 1px;margin: -1px;overflow: hidden;padding: 0;position: absolute;width: 1px;}#sk-container-id-1 div.sk-estimator {font-family: monospace;background-color: #f0f8ff;border: 1px dotted black;border-radius: 0.25em;box-sizing: border-box;margin-bottom: 0.5em;}#sk-container-id-1 div.sk-estimator:hover {background-color: #d4ebff;}#sk-container-id-1 div.sk-parallel-item::after {content: \"\";width: 100%;border-bottom: 1px solid gray;flex-grow: 1;}#sk-container-id-1 div.sk-label:hover label.sk-toggleable__label {background-color: #d4ebff;}#sk-container-id-1 div.sk-serial::before {content: \"\";position: absolute;border-left: 1px solid gray;box-sizing: border-box;top: 0;bottom: 0;left: 50%;z-index: 0;}#sk-container-id-1 div.sk-serial {display: flex;flex-direction: column;align-items: center;background-color: white;padding-right: 0.2em;padding-left: 0.2em;position: relative;}#sk-container-id-1 div.sk-item {position: relative;z-index: 1;}#sk-container-id-1 div.sk-parallel {display: flex;align-items: stretch;justify-content: center;background-color: white;position: relative;}#sk-container-id-1 div.sk-item::before, #sk-container-id-1 div.sk-parallel-item::before {content: \"\";position: absolute;border-left: 1px solid gray;box-sizing: border-box;top: 0;bottom: 0;left: 50%;z-index: -1;}#sk-container-id-1 div.sk-parallel-item {display: flex;flex-direction: column;z-index: 1;position: relative;background-color: white;}#sk-container-id-1 div.sk-parallel-item:first-child::after {align-self: flex-end;width: 50%;}#sk-container-id-1 div.sk-parallel-item:last-child::after {align-self: flex-start;width: 50%;}#sk-container-id-1 div.sk-parallel-item:only-child::after {width: 0;}#sk-container-id-1 div.sk-dashed-wrapped {border: 1px dashed gray;margin: 0 0.4em 0.5em 0.4em;box-sizing: border-box;padding-bottom: 0.4em;background-color: white;}#sk-container-id-1 div.sk-label label {font-family: monospace;font-weight: bold;display: inline-block;line-height: 1.2em;}#sk-container-id-1 div.sk-label-container {text-align: center;}#sk-container-id-1 div.sk-container {/* jupyter's `normalize.less` sets `[hidden] { display: none; }` but bootstrap.min.css set `[hidden] { display: none !important; }` so we also need the `!important` here to be able to override the default hidden behavior on the sphinx rendered scikit-learn.org. See: https://github.com/scikit-learn/scikit-learn/issues/21755 */display: inline-block !important;position: relative;}#sk-container-id-1 div.sk-text-repr-fallback {display: none;}</style><div id=\"sk-container-id-1\" class=\"sk-top-container\"><div class=\"sk-text-repr-fallback\"><pre>SelectPercentile(percentile=30,\n",
       "                 score_func=&lt;function mutual_info_regression at 0x0000022286BDE670&gt;)</pre><b>In a Jupyter environment, please rerun this cell to show the HTML representation or trust the notebook. <br />On GitHub, the HTML representation is unable to render, please try loading this page with nbviewer.org.</b></div><div class=\"sk-container\" hidden><div class=\"sk-item\"><div class=\"sk-estimator sk-toggleable\"><input class=\"sk-toggleable__control sk-hidden--visually\" id=\"sk-estimator-id-1\" type=\"checkbox\" checked><label for=\"sk-estimator-id-1\" class=\"sk-toggleable__label sk-toggleable__label-arrow\">SelectPercentile</label><div class=\"sk-toggleable__content\"><pre>SelectPercentile(percentile=30,\n",
       "                 score_func=&lt;function mutual_info_regression at 0x0000022286BDE670&gt;)</pre></div></div></div></div></div>"
      ],
      "text/plain": [
       "SelectPercentile(percentile=30,\n",
       "                 score_func=<function mutual_info_regression at 0x0000022286BDE670>)"
      ]
     },
     "execution_count": 86,
     "metadata": {},
     "output_type": "execute_result"
    }
   ],
   "source": [
    "from sklearn.feature_selection import SelectPercentile\n",
    "minfoper=SelectPercentile(mutual_info_regression,percentile=30)\n",
    "minfoper.fit(xtrain,ytrain)"
   ]
  },
  {
   "cell_type": "code",
   "execution_count": 88,
   "id": "152cff60",
   "metadata": {},
   "outputs": [
    {
     "data": {
      "text/plain": [
       "Index(['Company', 'Product Category 1_indian', 'Area 3', 'Outlet Type',\n",
       "       'Outlet Name', 'Product Category 2', 'Product', 'Revenue', 'MONTH'],\n",
       "      dtype='object')"
      ]
     },
     "execution_count": 88,
     "metadata": {},
     "output_type": "execute_result"
    }
   ],
   "source": [
    "xtrain.columns[minfoper.get_support()]"
   ]
  },
  {
   "cell_type": "code",
   "execution_count": 64,
   "id": "1aaf3272",
   "metadata": {},
   "outputs": [],
   "source": [
    "xtrain=xtrain[['Company', 'Product Category 1_indian', 'Area 3', 'Outlet Type',\n",
    "       'Outlet Name', 'Product Category 2', 'Product', 'Revenue', 'MONTH']]"
   ]
  },
  {
   "cell_type": "code",
   "execution_count": 65,
   "id": "1a44d039",
   "metadata": {},
   "outputs": [],
   "source": [
    "xtest=xtest[['Company', 'Product Category 1_indian', 'Area 3', 'Outlet Type',\n",
    "       'Outlet Name', 'Product Category 2', 'Product', 'Revenue', 'MONTH']]"
   ]
  },
  {
   "cell_type": "code",
   "execution_count": 92,
   "id": "eb6c1b62",
   "metadata": {},
   "outputs": [
    {
     "name": "stdout",
     "output_type": "stream",
     "text": [
      "Train Score: 0.21124692338523743\n",
      "Test Score: 0.19440929227467585\n",
      "Train MSE: 273274440.5793304\n",
      "Test MSE: 310049595.54409343\n"
     ]
    }
   ],
   "source": [
    "model(lr,xtrain,xtest,ytrain,ytest)"
   ]
  },
  {
   "cell_type": "code",
   "execution_count": 93,
   "id": "5ad767fc",
   "metadata": {},
   "outputs": [
    {
     "name": "stdout",
     "output_type": "stream",
     "text": [
      "Train Score: 0.9999999459014005\n",
      "Test Score: 0.5963690667362233\n",
      "Train MSE: 18.74320996111729\n",
      "Test MSE: 155346389.1867393\n"
     ]
    }
   ],
   "source": [
    "model(dt,xtrain,xtest,ytrain,ytest)"
   ]
  },
  {
   "cell_type": "code",
   "execution_count": 94,
   "id": "11fc6a02",
   "metadata": {},
   "outputs": [
    {
     "name": "stdout",
     "output_type": "stream",
     "text": [
      "Train Score: 0.9637879309751296\n",
      "Test Score: 0.7228493477365705\n",
      "Train MSE: 12546173.44564073\n",
      "Test MSE: 106667625.15383562\n"
     ]
    }
   ],
   "source": [
    "model(rf,xtrain,xtest,ytrain,ytest)"
   ]
  },
  {
   "cell_type": "code",
   "execution_count": 33,
   "id": "99b58f5f",
   "metadata": {},
   "outputs": [],
   "source": [
    "import tensorflow as tf"
   ]
  },
  {
   "cell_type": "code",
   "execution_count": 34,
   "id": "394d0829",
   "metadata": {},
   "outputs": [],
   "source": [
    "from tensorflow import keras"
   ]
  },
  {
   "cell_type": "code",
   "execution_count": 35,
   "id": "678d2319",
   "metadata": {},
   "outputs": [],
   "source": [
    "from sklearn.model_selection import train_test_split\n",
    "X,ttt,Y,t=train_test_split(x,y,test_size=.7,random_state=100)"
   ]
  },
  {
   "cell_type": "code",
   "execution_count": 38,
   "id": "7408adc4",
   "metadata": {},
   "outputs": [
    {
     "data": {
      "text/plain": [
       "(324445, 29)"
      ]
     },
     "execution_count": 38,
     "metadata": {},
     "output_type": "execute_result"
    }
   ],
   "source": [
    "X.shape"
   ]
  },
  {
   "cell_type": "code",
   "execution_count": 39,
   "id": "4bc1b395",
   "metadata": {},
   "outputs": [
    {
     "data": {
      "text/plain": [
       "(324445,)"
      ]
     },
     "execution_count": 39,
     "metadata": {},
     "output_type": "execute_result"
    }
   ],
   "source": [
    "Y.shape"
   ]
  },
  {
   "cell_type": "code",
   "execution_count": 40,
   "id": "8620c5cc",
   "metadata": {},
   "outputs": [],
   "source": [
    "xtrain,xtest,ytrain,ytest=train_test_split(X,Y,test_size=.4,random_state=100)"
   ]
  },
  {
   "cell_type": "code",
   "execution_count": 42,
   "id": "a73d55cb",
   "metadata": {},
   "outputs": [
    {
     "data": {
      "text/plain": [
       "194667"
      ]
     },
     "execution_count": 42,
     "metadata": {},
     "output_type": "execute_result"
    }
   ],
   "source": [
    "xtrain.shape[0]"
   ]
  },
  {
   "cell_type": "code",
   "execution_count": 47,
   "id": "e16b1738",
   "metadata": {},
   "outputs": [
    {
     "data": {
      "text/plain": [
       "612897     968.720864\n",
       "696353       0.000000\n",
       "349137    1176.373642\n",
       "831616       0.000000\n",
       "467172       0.000000\n",
       "Name: Commission, dtype: float64"
      ]
     },
     "execution_count": 47,
     "metadata": {},
     "output_type": "execute_result"
    }
   ],
   "source": [
    "ytrain.head()"
   ]
  },
  {
   "cell_type": "code",
   "execution_count": null,
   "id": "1f9abaa4",
   "metadata": {},
   "outputs": [],
   "source": []
  },
  {
   "cell_type": "code",
   "execution_count": 68,
   "id": "1bca4c39",
   "metadata": {},
   "outputs": [
    {
     "name": "stdout",
     "output_type": "stream",
     "text": [
      "Epoch 1/5\n",
      "6084/6084 [==============================] - 16s 3ms/step - loss: 232783584.0000 - mse: 232783584.0000\n",
      "Epoch 2/5\n",
      "6084/6084 [==============================] - 15s 3ms/step - loss: 193134768.0000 - mse: 193134768.0000\n",
      "Epoch 3/5\n",
      "6084/6084 [==============================] - 15s 2ms/step - loss: 174784368.0000 - mse: 174784368.0000\n",
      "Epoch 4/5\n",
      "6084/6084 [==============================] - 15s 2ms/step - loss: 167972912.0000 - mse: 167972912.0000\n",
      "Epoch 5/5\n",
      "6084/6084 [==============================] - 15s 2ms/step - loss: 154775040.0000 - mse: 154775040.0000\n"
     ]
    },
    {
     "data": {
      "text/plain": [
       "<keras.callbacks.History at 0x276c050b5b0>"
      ]
     },
     "execution_count": 68,
     "metadata": {},
     "output_type": "execute_result"
    }
   ],
   "source": [
    "model=keras.Sequential([\n",
    "    keras.layers.Dense(100,input_shape=(9,),activation='relu'),\n",
    "    keras.layers.Dense(150,activation='relu'),\n",
    "    keras.layers.Dense(150,activation='relu'),\n",
    "    keras.layers.Dense(100,activation='relu'),\n",
    "    keras.layers.Dense(1)\n",
    "])\n",
    "model.compile(loss='mse',\n",
    "             optimizer='adam',\n",
    "             metrics=['mse'])\n",
    "model.fit(xtrain,ytrain,epochs=5)"
   ]
  },
  {
   "cell_type": "code",
   "execution_count": 73,
   "id": "f56a262c",
   "metadata": {},
   "outputs": [
    {
     "name": "stdout",
     "output_type": "stream",
     "text": [
      "4056/4056 [==============================] - 7s 2ms/step - loss: 137842208.0000 - mse: 137842208.0000\n"
     ]
    },
    {
     "data": {
      "text/plain": [
       "[137842208.0, 137842208.0]"
      ]
     },
     "execution_count": 73,
     "metadata": {},
     "output_type": "execute_result"
    }
   ],
   "source": [
    "model.evaluate(xtest,ytest)"
   ]
  },
  {
   "cell_type": "code",
   "execution_count": 69,
   "id": "e6e90131",
   "metadata": {},
   "outputs": [
    {
     "name": "stdout",
     "output_type": "stream",
     "text": [
      "4056/4056 [==============================] - 6s 2ms/step\n"
     ]
    }
   ],
   "source": [
    "ypred=model.predict(xtest)\n",
    "#model.evaluate(ytest,ypred)"
   ]
  },
  {
   "cell_type": "code",
   "execution_count": 70,
   "id": "85572f41",
   "metadata": {},
   "outputs": [
    {
     "name": "stdout",
     "output_type": "stream",
     "text": [
      "0.6111830096131021\n"
     ]
    }
   ],
   "source": [
    "from sklearn.metrics import r2_score,mean_squared_error\n",
    "print(r2_score(ytest,ypred))"
   ]
  },
  {
   "cell_type": "code",
   "execution_count": 71,
   "id": "f01a83c6",
   "metadata": {},
   "outputs": [
    {
     "name": "stdout",
     "output_type": "stream",
     "text": [
      "137842144.20460388\n"
     ]
    }
   ],
   "source": [
    "print(mean_squared_error(ytest,ypred))"
   ]
  },
  {
   "cell_type": "code",
   "execution_count": 72,
   "id": "db77dc71",
   "metadata": {},
   "outputs": [
    {
     "data": {
      "text/plain": [
       "(194667, 9)"
      ]
     },
     "execution_count": 72,
     "metadata": {},
     "output_type": "execute_result"
    }
   ],
   "source": [
    "xtrain.shape"
   ]
  },
  {
   "cell_type": "code",
   "execution_count": null,
   "id": "bd259187",
   "metadata": {},
   "outputs": [],
   "source": []
  }
 ],
 "metadata": {
  "kernelspec": {
   "display_name": "Python 3",
   "language": "python",
   "name": "python3"
  },
  "language_info": {
   "codemirror_mode": {
    "name": "ipython",
    "version": 3
   },
   "file_extension": ".py",
   "mimetype": "text/x-python",
   "name": "python",
   "nbconvert_exporter": "python",
   "pygments_lexer": "ipython3",
   "version": "3.8.8"
  }
 },
 "nbformat": 4,
 "nbformat_minor": 5
}
